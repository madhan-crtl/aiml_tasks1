{
 "cells": [
  {
   "cell_type": "code",
   "execution_count": 9,
   "id": "d2f0960f-8b20-4989-8004-c2d3edff74d8",
   "metadata": {},
   "outputs": [],
   "source": [
    "L=[100,50,193,443,256,53,1000]\n",
    "L1=[]\n",
    "L2=[]\n",
    "for x in L:\n",
    "    if x%2 ==0:\n",
    "        L1.append(x)\n",
    "    else:\n",
    "        L2.append(x)"
   ]
  },
  {
   "cell_type": "code",
   "execution_count": 12,
   "id": "97ef85a8-f8a7-48b9-b4b1-dc523e9c9d2b",
   "metadata": {},
   "outputs": [
    {
     "data": {
      "text/plain": [
       "[100, 50, 256, 1000]"
      ]
     },
     "execution_count": 12,
     "metadata": {},
     "output_type": "execute_result"
    }
   ],
   "source": [
    "L1"
   ]
  },
  {
   "cell_type": "code",
   "execution_count": 14,
   "id": "c99d9e52-9f45-4d14-8dcf-9cce7f144005",
   "metadata": {},
   "outputs": [
    {
     "data": {
      "text/plain": [
       "[193, 443, 53]"
      ]
     },
     "execution_count": 14,
     "metadata": {},
     "output_type": "execute_result"
    }
   ],
   "source": [
    "L2"
   ]
  },
  {
   "cell_type": "code",
   "execution_count": 16,
   "id": "a16fa307-4c7c-4b4a-91f8-dca508b765eb",
   "metadata": {},
   "outputs": [
    {
     "name": "stdout",
     "output_type": "stream",
     "text": [
      "Strings: ['A', 'B']\n",
      "Booleans: [True]\n",
      "Integers: [100, 205, True]\n",
      "Complex numbers: [(6+8j)]\n"
     ]
    }
   ],
   "source": [
    "L=[\"A\",100,\"B\",205,True,6+8j]\n",
    "print(\"Strings:\", [item for item in L if isinstance(item, str)])\n",
    "print(\"Booleans:\", [item for item in L if isinstance(item, bool)])\n",
    "print(\"Integers:\", [item for item in L if isinstance(item, int)])\n",
    "print(\"Complex numbers:\", [item for item in L if isinstance(item, complex)])"
   ]
  },
  {
   "cell_type": "code",
   "execution_count": 18,
   "id": "2a8e1c06-ca3e-4ca3-ba5d-96e362d42158",
   "metadata": {},
   "outputs": [
    {
     "name": "stdout",
     "output_type": "stream",
     "text": [
      "L1: ['A', 'B']\n",
      "L2: [True]\n",
      "L3: [100, 205, True]\n",
      "L4: [(6+8j)]\n"
     ]
    }
   ],
   "source": [
    "L=[\"A\",100,\"B\",205,True,6+8j]\n",
    "print(\"L1:\", [item for item in L if isinstance(item, str)])\n",
    "print(\"L2:\", [item for item in L if isinstance(item, bool)])\n",
    "print(\"L3:\", [item for item in L if isinstance(item, int)])\n",
    "print(\"L4:\", [item for item in L if isinstance(item, complex)])"
   ]
  },
  {
   "cell_type": "code",
   "execution_count": 20,
   "id": "82f8dd9f-cbc4-47a9-be92-c2a6f81fe3d4",
   "metadata": {},
   "outputs": [],
   "source": [
    "L=[\"A\",100,\"B\",205,True,6+8j]"
   ]
  },
  {
   "cell_type": "code",
   "execution_count": 22,
   "id": "7dc362d9-8d7c-44be-8d50-41339ae10add",
   "metadata": {},
   "outputs": [
    {
     "name": "stdout",
     "output_type": "stream",
     "text": [
      "[100, 205]\n"
     ]
    }
   ],
   "source": [
    "L1=[]\n",
    "L2=[]\n",
    "L3=[]\n",
    "L4=[]\n",
    "for x in L:\n",
    "    if type(x) == int:\n",
    "        L1.append(x)\n",
    "    elif type(x) == float:\n",
    "        L1.append(x)\n",
    "print(L1)"
   ]
  },
  {
   "cell_type": "code",
   "execution_count": 1,
   "id": "ce818654-b16c-4353-9c26-7db87c9c6853",
   "metadata": {},
   "outputs": [
    {
     "name": "stdout",
     "output_type": "stream",
     "text": [
      "30\n",
      "60\n",
      "90\n",
      "120\n"
     ]
    }
   ],
   "source": [
    "my_list = [10,20,30,40]\n",
    "for item in my_list:\n",
    "    print(3*item)"
   ]
  },
  {
   "cell_type": "code",
   "execution_count": 3,
   "id": "632ce764-d3f1-44d2-99c0-a94541d548c8",
   "metadata": {},
   "outputs": [
    {
     "name": "stdout",
     "output_type": "stream",
     "text": [
      "30\n",
      "60\n",
      "90\n",
      "120\n"
     ]
    }
   ],
   "source": [
    " for x in range(len(my_list)):\n",
    "     print(3*my_list[x])\n",
    "     "
   ]
  },
  {
   "cell_type": "code",
   "execution_count": 5,
   "id": "db66ebc8-3686-4d57-af22-b09887b68022",
   "metadata": {},
   "outputs": [
    {
     "data": {
      "text/plain": [
       "[[1, 2], [3, 4], [5, 6]]"
      ]
     },
     "execution_count": 5,
     "metadata": {},
     "output_type": "execute_result"
    }
   ],
   "source": [
    "nested_list = [[1, 2], [3, 4], [5, 6]]\n",
    "nested_list"
   ]
  },
  {
   "cell_type": "code",
   "execution_count": 7,
   "id": "44bc2042-8dfe-4eef-bc45-ce6298835f10",
   "metadata": {},
   "outputs": [
    {
     "data": {
      "text/plain": [
       "['__add__',\n",
       " '__class__',\n",
       " '__class_getitem__',\n",
       " '__contains__',\n",
       " '__delattr__',\n",
       " '__delitem__',\n",
       " '__dir__',\n",
       " '__doc__',\n",
       " '__eq__',\n",
       " '__format__',\n",
       " '__ge__',\n",
       " '__getattribute__',\n",
       " '__getitem__',\n",
       " '__getstate__',\n",
       " '__gt__',\n",
       " '__hash__',\n",
       " '__iadd__',\n",
       " '__imul__',\n",
       " '__init__',\n",
       " '__init_subclass__',\n",
       " '__iter__',\n",
       " '__le__',\n",
       " '__len__',\n",
       " '__lt__',\n",
       " '__mul__',\n",
       " '__ne__',\n",
       " '__new__',\n",
       " '__reduce__',\n",
       " '__reduce_ex__',\n",
       " '__repr__',\n",
       " '__reversed__',\n",
       " '__rmul__',\n",
       " '__setattr__',\n",
       " '__setitem__',\n",
       " '__sizeof__',\n",
       " '__str__',\n",
       " '__subclasshook__',\n",
       " 'append',\n",
       " 'clear',\n",
       " 'copy',\n",
       " 'count',\n",
       " 'extend',\n",
       " 'index',\n",
       " 'insert',\n",
       " 'pop',\n",
       " 'remove',\n",
       " 'reverse',\n",
       " 'sort']"
      ]
     },
     "execution_count": 7,
     "metadata": {},
     "output_type": "execute_result"
    }
   ],
   "source": [
    "dir(list)"
   ]
  },
  {
   "cell_type": "code",
   "execution_count": 9,
   "id": "75528837-aa14-449c-bb38-0b96b7136595",
   "metadata": {},
   "outputs": [
    {
     "data": {
      "text/plain": [
       "[['apple', 10], ['banana', 5], ['cherry', 7], ['banana', 5]]"
      ]
     },
     "execution_count": 9,
     "metadata": {},
     "output_type": "execute_result"
    }
   ],
   "source": [
    "orders = [[\"apple\",10],[\"banana\",5],[\"cherry\",7],[\"banana\",5]]\n",
    "orders"
   ]
  },
  {
   "cell_type": "code",
   "execution_count": 11,
   "id": "913fed5a-61ee-4ff6-bfa7-f5e437707807",
   "metadata": {},
   "outputs": [],
   "source": [
    "new_orders = [[\"grape\",9],[\"apple\",20]]\n",
    "orders.extend(new_orders)"
   ]
  },
  {
   "cell_type": "code",
   "execution_count": 13,
   "id": "97b25a45-6177-4ae0-a1e6-dcd3d4332883",
   "metadata": {},
   "outputs": [
    {
     "data": {
      "text/plain": [
       "[['apple', 10],\n",
       " ['banana', 5],\n",
       " ['cherry', 7],\n",
       " ['banana', 5],\n",
       " ['grape', 9],\n",
       " ['apple', 20]]"
      ]
     },
     "execution_count": 13,
     "metadata": {},
     "output_type": "execute_result"
    }
   ],
   "source": [
    "orders"
   ]
  },
  {
   "cell_type": "code",
   "execution_count": 15,
   "id": "2344262b-ab82-4f8e-bf6b-8de0d9463311",
   "metadata": {},
   "outputs": [
    {
     "data": {
      "text/plain": [
       "[['apple', 10],\n",
       " ['banana', 5],\n",
       " ['cherry', 7],\n",
       " ['dragon', 10],\n",
       " ['banana', 5],\n",
       " ['grape', 9],\n",
       " ['apple', 20]]"
      ]
     },
     "execution_count": 15,
     "metadata": {},
     "output_type": "execute_result"
    }
   ],
   "source": [
    "new_order2 = [\"dragon\",10]\n",
    "orders.insert(3,new_order2)\n",
    "orders"
   ]
  },
  {
   "cell_type": "code",
   "execution_count": 17,
   "id": "8779b284-8956-47ad-822e-f8e0be594903",
   "metadata": {},
   "outputs": [
    {
     "data": {
      "text/plain": [
       "['banana', 5]"
      ]
     },
     "execution_count": 17,
     "metadata": {},
     "output_type": "execute_result"
    }
   ],
   "source": [
    "duplicate_order = [\"banana\",5]\n",
    "orders.pop(4)"
   ]
  },
  {
   "cell_type": "code",
   "execution_count": 19,
   "id": "4af791f4-cf55-495c-b507-61c49f0b57c5",
   "metadata": {},
   "outputs": [
    {
     "data": {
      "text/plain": [
       "[['apple', 10],\n",
       " ['banana', 5],\n",
       " ['cherry', 7],\n",
       " ['dragon', 10],\n",
       " ['grape', 9],\n",
       " ['apple', 20]]"
      ]
     },
     "execution_count": 19,
     "metadata": {},
     "output_type": "execute_result"
    }
   ],
   "source": [
    "orders"
   ]
  },
  {
   "cell_type": "code",
   "execution_count": 5,
   "id": "ebfe9c88-6418-48fc-8075-f2226a1ce70c",
   "metadata": {},
   "outputs": [
    {
     "name": "stdout",
     "output_type": "stream",
     "text": [
      "[['apple', 10], ['banana', 5], ['cherry', 10], ['dragon', 10], ['grape', 9], ['apple', 20]]\n"
     ]
    }
   ],
   "source": [
    "order = [['apple',10], ['banana',5], ['cherry',7], ['dragon',10], ['grape',9], ['apple',20]]\n",
    "for each in order:\n",
    "    if each[0] == \"cherry\":\n",
    "        each[1] = 10\n",
    "\n",
    "print(order)"
   ]
  },
  {
   "cell_type": "code",
   "execution_count": 15,
   "id": "9a5fa377-85a8-476c-a3ff-24bea8854e5f",
   "metadata": {},
   "outputs": [
    {
     "name": "stdout",
     "output_type": "stream",
     "text": [
      "[10, 20]\n",
      "30\n"
     ]
    }
   ],
   "source": [
    "orders = [['apple',10], ['banana',5], ['cherry',7], ['dragon',10], ['grape',9], ['apple',20]]\n",
    "apple_orders=[]\n",
    "for each in orders:\n",
    "    if each[0] == 'apple':\n",
    "        apple_orders.append(each[1])\n",
    "\n",
    "print(apple_orders)\n",
    "print(sum(apple_orders))\n",
    "        "
   ]
  },
  {
   "cell_type": "code",
   "execution_count": 19,
   "id": "db498447-0485-4099-abe2-ee100f8fbf41",
   "metadata": {},
   "outputs": [
    {
     "name": "stdout",
     "output_type": "stream",
     "text": [
      "(3, 5, 9, 10)\n",
      "<class 'tuple'>\n"
     ]
    }
   ],
   "source": [
    "Tup1=(3,5,9,10)\n",
    "print(Tup1)\n",
    "print(type(Tup1))"
   ]
  },
  {
   "cell_type": "code",
   "execution_count": 21,
   "id": "8e9762c5-71f5-4067-868c-a90215261bcc",
   "metadata": {},
   "outputs": [
    {
     "name": "stdout",
     "output_type": "stream",
     "text": [
      "(10, 20, 30, 'hi')\n",
      "<class 'tuple'>\n"
     ]
    }
   ],
   "source": [
    "Tup2=10,20,30,'hi'\n",
    "print(Tup2)\n",
    "print(type(Tup2))"
   ]
  },
  {
   "cell_type": "code",
   "execution_count": 23,
   "id": "16c5efb1-44f6-4595-afdd-8c142a99142f",
   "metadata": {},
   "outputs": [
    {
     "name": "stdout",
     "output_type": "stream",
     "text": [
      "(1, 2, 5, 7)\n"
     ]
    }
   ],
   "source": [
    "Tup3=tuple([1,2,5,7])\n",
    "print(Tup3)"
   ]
  },
  {
   "cell_type": "code",
   "execution_count": 25,
   "id": "02e5c53f-86bb-470a-ab3c-3515ae96a63a",
   "metadata": {},
   "outputs": [
    {
     "name": "stdout",
     "output_type": "stream",
     "text": [
      "(3, 5, 9, 10)\n",
      "(10, 20, 30, 'hi')\n",
      "(1, 2, 5, 7)\n"
     ]
    }
   ],
   "source": [
    "Tup1=(3,5,9,10)\n",
    "Tup2=10,20,30,'hi'\n",
    "Tup3=tuple([1,2,5,7])\n",
    "print(Tup1)\n",
    "print(Tup2)\n",
    "print(Tup3)"
   ]
  },
  {
   "cell_type": "code",
   "execution_count": 29,
   "id": "d9168beb-85a7-46d7-a5ca-273957b1773d",
   "metadata": {},
   "outputs": [
    {
     "name": "stdout",
     "output_type": "stream",
     "text": [
      "(3, 5, 9, 10)\n",
      "(10, 20, 30, 'hi')\n",
      "(1, 2, 5, 7)\n",
      "([3, 4, 5], (1, 3, 6), 'Hello', 10.5)\n"
     ]
    }
   ],
   "source": [
    "Tup1=(3,5,9,10)\n",
    "Tup2=10,20,30,'hi'\n",
    "Tup3=tuple([1,2,5,7])\n",
    "Tup4=([3,4,5],(1,3,6),'Hello',10.5)\n",
    "print(Tup1)\n",
    "print(Tup2)\n",
    "print(Tup3)\n",
    "print(Tup4)"
   ]
  },
  {
   "cell_type": "code",
   "execution_count": 41,
   "id": "72eb1e39-3db8-4078-99bb-08eafa7919b0",
   "metadata": {},
   "outputs": [
    {
     "data": {
      "text/plain": [
       "2"
      ]
     },
     "execution_count": 41,
     "metadata": {},
     "output_type": "execute_result"
    }
   ],
   "source": [
    "Tup4.index('Hello')"
   ]
  },
  {
   "cell_type": "code",
   "execution_count": 43,
   "id": "753c1b52-3175-4dc6-9dda-e860a4085dad",
   "metadata": {},
   "outputs": [
    {
     "data": {
      "text/plain": [
       "4"
      ]
     },
     "execution_count": 43,
     "metadata": {},
     "output_type": "execute_result"
    }
   ],
   "source": [
    "Tup5 = (10,20,1,10,10,30,10)\n",
    "Tup5.count(10)"
   ]
  },
  {
   "cell_type": "code",
   "execution_count": 11,
   "id": "58a5d8a1-461d-48d2-a109-919f637d3cc2",
   "metadata": {},
   "outputs": [
    {
     "data": {
      "text/plain": [
       "{'a': 1, 'b': 2, 'c': 3}"
      ]
     },
     "execution_count": 11,
     "metadata": {},
     "output_type": "execute_result"
    }
   ],
   "source": [
    "d1 = {\"a\": 1, \"b\": 2, \"c\": 3}\n",
    "d1"
   ]
  },
  {
   "cell_type": "code",
   "execution_count": 1,
   "id": "0b522271-977e-49e4-86e8-9cd888afc09b",
   "metadata": {},
   "outputs": [
    {
     "name": "stdout",
     "output_type": "stream",
     "text": [
      "{'A': 10, 'B': 20, 'C': 30}\n"
     ]
    }
   ],
   "source": [
    "d2 = dict(A=10, B=20, C=30)\n",
    "print(d2)"
   ]
  },
  {
   "cell_type": "code",
   "execution_count": 19,
   "id": "afaba42a-b33b-474f-9a21-07e8d67a5940",
   "metadata": {},
   "outputs": [
    {
     "name": "stdout",
     "output_type": "stream",
     "text": [
      "{'x': 1, 'y': 2, 'z': 3}\n"
     ]
    }
   ],
   "source": [
    "d3 = dict([(\"x\", 1),(\"y\", 2),(\"z\", 3)])\n",
    "print(d3)"
   ]
  },
  {
   "cell_type": "code",
   "execution_count": 21,
   "id": "c2c08b47-90b7-411e-a20c-c6bc03c896c5",
   "metadata": {},
   "outputs": [
    {
     "name": "stdout",
     "output_type": "stream",
     "text": [
      "dict_keys(['a', 'b', 'c'])\n",
      "dict_values([1, 2, 3])\n",
      "dict_items([('a', 1), ('b', 2), ('c', 3)])\n"
     ]
    }
   ],
   "source": [
    "print(d1.keys())\n",
    "print(d1.values())\n",
    "print(d1.items())"
   ]
  },
  {
   "cell_type": "code",
   "execution_count": 23,
   "id": "e65c112c-4ab7-4dee-80bd-41ec653b4a03",
   "metadata": {},
   "outputs": [
    {
     "data": {
      "text/plain": [
       "['__class__',\n",
       " '__class_getitem__',\n",
       " '__contains__',\n",
       " '__delattr__',\n",
       " '__delitem__',\n",
       " '__dir__',\n",
       " '__doc__',\n",
       " '__eq__',\n",
       " '__format__',\n",
       " '__ge__',\n",
       " '__getattribute__',\n",
       " '__getitem__',\n",
       " '__getstate__',\n",
       " '__gt__',\n",
       " '__hash__',\n",
       " '__init__',\n",
       " '__init_subclass__',\n",
       " '__ior__',\n",
       " '__iter__',\n",
       " '__le__',\n",
       " '__len__',\n",
       " '__lt__',\n",
       " '__ne__',\n",
       " '__new__',\n",
       " '__or__',\n",
       " '__reduce__',\n",
       " '__reduce_ex__',\n",
       " '__repr__',\n",
       " '__reversed__',\n",
       " '__ror__',\n",
       " '__setattr__',\n",
       " '__setitem__',\n",
       " '__sizeof__',\n",
       " '__str__',\n",
       " '__subclasshook__',\n",
       " 'clear',\n",
       " 'copy',\n",
       " 'fromkeys',\n",
       " 'get',\n",
       " 'items',\n",
       " 'keys',\n",
       " 'pop',\n",
       " 'popitem',\n",
       " 'setdefault',\n",
       " 'update',\n",
       " 'values']"
      ]
     },
     "execution_count": 23,
     "metadata": {},
     "output_type": "execute_result"
    }
   ],
   "source": [
    "dir(dict)"
   ]
  },
  {
   "cell_type": "code",
   "execution_count": 5,
   "id": "9f2aa08f-c444-492d-9718-c0a54b1037df",
   "metadata": {},
   "outputs": [],
   "source": [
    "scores = {'Virat':90,'Rohit':100,'Rahul':70,'Hardik':9,'Gill':20,'Jadeja':30,'Siraz':15,'"
   ]
  },
  {
   "cell_type": "code",
   "execution_count": 7,
   "id": "4a7769aa-988a-4157-9054-a16e91a07e68",
   "metadata": {},
   "outputs": [
    {
     "data": {
      "text/plain": [
       "{'Virat': 90,\n",
       " 'Rohit': 100,\n",
       " 'Rahul': 70,\n",
       " 'Hardik': 9,\n",
       " 'Gill': 20,\n",
       " 'Jadeja': 30,\n",
       " 'Siraz': 15,\n",
       " 'Aswin': 15}"
      ]
     },
     "execution_count": 7,
     "metadata": {},
     "output_type": "execute_result"
    }
   ],
   "source": [
    "scores"
   ]
  },
  {
   "cell_type": "code",
   "execution_count": 15,
   "id": "afcfa2f4-880d-4ed7-838e-79ac6a73927b",
   "metadata": {},
   "outputs": [
    {
     "data": {
      "text/plain": [
       "{'Virat': 90,\n",
       " 'Rohit': 100,\n",
       " 'Rahul': 70,\n",
       " 'Hardik': 9,\n",
       " 'Gill': 20,\n",
       " 'Jadeja': 50,\n",
       " 'Siraz': 15,\n",
       " 'Aswin': 15}"
      ]
     },
     "execution_count": 15,
     "metadata": {},
     "output_type": "execute_result"
    }
   ],
   "source": [
    "scores.update({\"Jadeja\":50})\n",
    "scores"
   ]
  },
  {
   "cell_type": "code",
   "execution_count": 25,
   "id": "ee896b2a-757b-497a-b03a-0fbc667f640c",
   "metadata": {},
   "outputs": [
    {
     "data": {
      "text/plain": [
       "{'Virat': 90,\n",
       " 'Rohit': 150,\n",
       " 'Rahul': 70,\n",
       " 'Hardik': 9,\n",
       " 'Gill': 20,\n",
       " 'Jadeja': 50,\n",
       " 'Siraz': 15,\n",
       " 'Aswin': 15}"
      ]
     },
     "execution_count": 25,
     "metadata": {},
     "output_type": "execute_result"
    }
   ],
   "source": [
    "scores.update({\"Rohit\":150})\n",
    "scores"
   ]
  },
  {
   "cell_type": "code",
   "execution_count": 27,
   "id": "dda54ca4-51d7-4733-9795-24a1ba530d35",
   "metadata": {},
   "outputs": [
    {
     "data": {
      "text/plain": [
       "{'Virat': 90,\n",
       " 'Rohit': 150,\n",
       " 'Rahul': 70,\n",
       " 'Hardik': 65,\n",
       " 'Gill': 20,\n",
       " 'Jadeja': 50,\n",
       " 'Siraz': 15,\n",
       " 'Aswin': 45}"
      ]
     },
     "execution_count": 27,
     "metadata": {},
     "output_type": "execute_result"
    }
   ],
   "source": [
    "scores.update({\"Hardik\":65,\"Aswin\":45})\n",
    "scores"
   ]
  },
  {
   "cell_type": "code",
   "execution_count": 29,
   "id": "c6ec8201-0f07-4980-b3f9-af8dc17bc8ee",
   "metadata": {},
   "outputs": [
    {
     "data": {
      "text/plain": [
       "{'Virat': 90,\n",
       " 'Rohit': 150,\n",
       " 'Rahul': 70,\n",
       " 'Hardik': 65,\n",
       " 'Gill': 20,\n",
       " 'Jadeja': 50,\n",
       " 'Siraz': 15,\n",
       " 'Aswin': 45,\n",
       " 'pujara': 50}"
      ]
     },
     "execution_count": 29,
     "metadata": {},
     "output_type": "execute_result"
    }
   ],
   "source": [
    "scores.setdefault(\"pujara\",50)\n",
    "scores"
   ]
  },
  {
   "cell_type": "code",
   "execution_count": 31,
   "id": "55015dd0-f119-4b68-8e32-c402f7b7b4e4",
   "metadata": {},
   "outputs": [
    {
     "data": {
      "text/plain": [
       "{'Virat': 90,\n",
       " 'Rohit': 150,\n",
       " 'Rahul': 70,\n",
       " 'Hardik': 65,\n",
       " 'Gill': 20,\n",
       " 'Jadeja': 50,\n",
       " 'Siraz': 15,\n",
       " 'Aswin': 45}"
      ]
     },
     "execution_count": 31,
     "metadata": {},
     "output_type": "execute_result"
    }
   ],
   "source": [
    "scores.popitem()\n",
    "scores"
   ]
  },
  {
   "cell_type": "code",
   "execution_count": 33,
   "id": "f66f7e53-6f8b-4612-976f-9de3ee1e6c9e",
   "metadata": {},
   "outputs": [
    {
     "data": {
      "text/plain": [
       "{'Virat': 90,\n",
       " 'Rohit': 150,\n",
       " 'Rahul': 70,\n",
       " 'Hardik': 65,\n",
       " 'Jadeja': 50,\n",
       " 'Siraz': 15,\n",
       " 'Aswin': 45}"
      ]
     },
     "execution_count": 33,
     "metadata": {},
     "output_type": "execute_result"
    }
   ],
   "source": [
    "scores.pop(\"Gill\")\n",
    "scores"
   ]
  },
  {
   "cell_type": "code",
   "execution_count": 35,
   "id": "4d4e6d37-dff7-4d49-937c-5ffb56ee0661",
   "metadata": {},
   "outputs": [
    {
     "data": {
      "text/plain": [
       "15"
      ]
     },
     "execution_count": 35,
     "metadata": {},
     "output_type": "execute_result"
    }
   ],
   "source": [
    "scores.get(\"Siraz\")"
   ]
  },
  {
   "cell_type": "code",
   "execution_count": 37,
   "id": "933e8f9e-9350-408a-867e-32468b669f43",
   "metadata": {},
   "outputs": [
    {
     "data": {
      "text/plain": [
       "{'A': 10, 'B': 10, 'C': 10, 'D': 10}"
      ]
     },
     "execution_count": 37,
     "metadata": {},
     "output_type": "execute_result"
    }
   ],
   "source": [
    "#create of dict from fromkeys()\n",
    "list1 = [\"A\",\"B\",\"C\",\"D\"]\n",
    "my_dict = dict.fromkeys(list1,10)\n",
    "my_dict"
   ]
  },
  {
   "cell_type": "code",
   "execution_count": 41,
   "id": "e8ec8856-87e9-4e6c-98d6-45adbce2250e",
   "metadata": {},
   "outputs": [
    {
     "data": {
      "text/plain": [
       "{'A': 20, 'B': 20, 'C': 20, 'D': 20}"
      ]
     },
     "execution_count": 41,
     "metadata": {},
     "output_type": "execute_result"
    }
   ],
   "source": [
    "list1 = [\"A\",\"B\",\"C\",\"D\"]\n",
    "my_dict = dict.fromkeys(list1,20)\n",
    "my_dict"
   ]
  },
  {
   "cell_type": "code",
   "execution_count": 43,
   "id": "c87b9ed9-ff60-4d96-b535-964e7050ce59",
   "metadata": {},
   "outputs": [
    {
     "data": {
      "text/plain": [
       "{'A': 10, 'B': 20, 'C': 20, 'D': 20}"
      ]
     },
     "execution_count": 43,
     "metadata": {},
     "output_type": "execute_result"
    }
   ],
   "source": [
    "my_dict.update({\"A\":10,\"B\":20})\n",
    "my_dict"
   ]
  },
  {
   "cell_type": "code",
   "execution_count": null,
   "id": "9cd03a3b-5628-4456-a7b9-94f246aef234",
   "metadata": {},
   "outputs": [],
   "source": []
  }
 ],
 "metadata": {
  "kernelspec": {
   "display_name": "Python [conda env:base] *",
   "language": "python",
   "name": "conda-base-py"
  },
  "language_info": {
   "codemirror_mode": {
    "name": "ipython",
    "version": 3
   },
   "file_extension": ".py",
   "mimetype": "text/x-python",
   "name": "python",
   "nbconvert_exporter": "python",
   "pygments_lexer": "ipython3",
   "version": "3.12.7"
  }
 },
 "nbformat": 4,
 "nbformat_minor": 5
}
