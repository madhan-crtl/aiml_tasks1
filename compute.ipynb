{
 "cells": [
  {
   "cell_type": "code",
   "execution_count": null,
   "id": "32f49433-9891-44c7-81d6-d6e22c9d08cd",
   "metadata": {},
   "outputs": [],
   "source": [
    "def mean_value(*n):\n",
    "    sum = 0\n",
    "    counter = 0\n",
    "    for x in n:\n",
    "        counter = counter +1\n",
    "        sum +="
   ]
  },
  {
   "cell_type": "code",
   "execution_count": 29,
   "id": "ef42ef3b-f3bf-4a1c-b91d-d47989463e99",
   "metadata": {},
   "outputs": [],
   "source": [
    "def mean_value(*n):\n",
    "    num_list = list(n)\n",
    "    num_list.sort()\n",
    "    l = len(num_list)\n",
    "    if l%2 == 0:\n",
    "        median = (num_list[int(l/2)] + num_list[int((l/2))-1])/2\n",
    "    else:\n",
    "        median = num_list[int(l/2)]\n",
    "    return median"
   ]
  },
  {
   "cell_type": "code",
   "execution_count": 35,
   "id": "d2beed11-4955-4c4d-ac6c-b91424adea2b",
   "metadata": {},
   "outputs": [
    {
     "data": {
      "text/plain": [
       "5.5"
      ]
     },
     "execution_count": 35,
     "metadata": {},
     "output_type": "execute_result"
    }
   ],
   "source": [
    "mean_value(1,2,3,4,5,6,7,8,9,10)"
   ]
  },
  {
   "cell_type": "markdown",
   "id": "358538a8-53dd-44dc-b813-aff80b9b3698",
   "metadata": {},
   "source": []
  }
 ],
 "metadata": {
  "kernelspec": {
   "display_name": "Python [conda env:base] *",
   "language": "python",
   "name": "conda-base-py"
  },
  "language_info": {
   "codemirror_mode": {
    "name": "ipython",
    "version": 3
   },
   "file_extension": ".py",
   "mimetype": "text/x-python",
   "name": "python",
   "nbconvert_exporter": "python",
   "pygments_lexer": "ipython3",
   "version": "3.12.7"
  }
 },
 "nbformat": 4,
 "nbformat_minor": 5
}
